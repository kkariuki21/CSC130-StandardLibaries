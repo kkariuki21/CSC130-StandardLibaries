{
 "cells": [
  {
   "cell_type": "markdown",
   "id": "569d9804",
   "metadata": {},
   "source": [
    "##dateTime\n",
    "\n",
    "gets current date"
   ]
  },
  {
   "cell_type": "code",
   "execution_count": 1,
   "id": "a891e3da",
   "metadata": {},
   "outputs": [
    {
     "name": "stdout",
     "output_type": "stream",
     "text": [
      "2025-10-20\n"
     ]
    }
   ],
   "source": [
    "import datetime\n",
    "\n",
    "today = datetime.date.today()\n",
    "\n",
    "print(today)"
   ]
  },
  {
   "cell_type": "markdown",
   "id": "754c4018",
   "metadata": {},
   "source": [
    "##random\n",
    "\n",
    "create a random password"
   ]
  },
  {
   "cell_type": "code",
   "execution_count": null,
   "id": "9e9bd01a",
   "metadata": {},
   "outputs": [],
   "source": [
    "import random\n",
    "\n",
    "random_password = ''.join(random.choices('abcdefghijklmnopqrstuvwxyz0123456789', k=10))"
   ]
  },
  {
   "cell_type": "markdown",
   "id": "0be0353d",
   "metadata": {},
   "source": [
    "##Shallow vs Deep copy\n",
    "\n",
    "shallow copy changes the original and the new copy while deep copy creates a whole new object which means it will only affect the copy list"
   ]
  },
  {
   "cell_type": "code",
   "execution_count": 2,
   "id": "c8a1674b",
   "metadata": {},
   "outputs": [
    {
     "name": "stdout",
     "output_type": "stream",
     "text": [
      "Original: [1, 2, ['Changed', 4]]\n",
      "Shallow Copy: [1, 2, ['Changed', 4]]\n",
      "Deep Copy: [1, 2, [3, 4]]\n"
     ]
    }
   ],
   "source": [
    "import copy\n",
    "\n",
    "a = [1, 2, [3, 4]]\n",
    "b = copy.copy(a)        # Shallow copy\n",
    "c = copy.deepcopy(a)   # Deep copy\n",
    "\n",
    "a[2][0] = 'Changed'\n",
    "print(\"Original:\", a)\n",
    "print(\"Shallow Copy:\", b)\n",
    "print(\"Deep Copy:\", c)"
   ]
  },
  {
   "cell_type": "markdown",
   "id": "f8f0cfa8",
   "metadata": {},
   "source": [
    "##time\n",
    "\n",
    "sleep is used to wait until specified seconds has passed then it continues to the next line"
   ]
  },
  {
   "cell_type": "code",
   "execution_count": 3,
   "id": "3a012712",
   "metadata": {},
   "outputs": [
    {
     "name": "stdout",
     "output_type": "stream",
     "text": [
      "Current Time: Mon Oct 20 15:08:16 2025\n",
      "Time after 2 seconds: Mon Oct 20 15:08:18 2025\n"
     ]
    }
   ],
   "source": [
    "import time\n",
    "\n",
    "print(\"Current Time:\", time.ctime())\n",
    "time.sleep(2)\n",
    "print(\"Time after 2 seconds:\", time.ctime())"
   ]
  },
  {
   "cell_type": "markdown",
   "id": "50961f00",
   "metadata": {},
   "source": [
    "##math\n",
    "\n",
    "uses math module to calculate the area of a circle"
   ]
  },
  {
   "cell_type": "code",
   "execution_count": null,
   "id": "ff885043",
   "metadata": {},
   "outputs": [
    {
     "name": "stdout",
     "output_type": "stream",
     "text": [
      "Pi: 3.141592653589793\n",
      "Area of circle with radius 5 is 78.53981633974483\n"
     ]
    }
   ],
   "source": [
    "import math\n",
    "\n",
    "print(\"Pi:\", math.pi)\n",
    "\n",
    "radius = 5\n",
    "area = math.pi * (radius ** 2)\n",
    "print(f\"Area of circle with radius {radius} is {area:.2f}\")"
   ]
  },
  {
   "cell_type": "markdown",
   "id": "c744717c",
   "metadata": {},
   "source": [
    "##os\n",
    "\n",
    "list files in current directory"
   ]
  },
  {
   "cell_type": "code",
   "execution_count": 5,
   "id": "d5226278",
   "metadata": {},
   "outputs": [
    {
     "name": "stdout",
     "output_type": "stream",
     "text": [
      "Current Working Directory: c:\\Users\\kkariuki\\OneDrive - Fayetteville State University\\cs130\\CSC130-StandardLibaries\n",
      "Files in Directory: ['.git', 'Lab.ipynb', 'README.md']\n"
     ]
    }
   ],
   "source": [
    "import os\n",
    "\n",
    "print(\"Current Working Directory:\", os.getcwd())\n",
    "print(\"Files in Directory:\", os.listdir('.'))"
   ]
  }
 ],
 "metadata": {
  "kernelspec": {
   "display_name": "base",
   "language": "python",
   "name": "python3"
  },
  "language_info": {
   "codemirror_mode": {
    "name": "ipython",
    "version": 3
   },
   "file_extension": ".py",
   "mimetype": "text/x-python",
   "name": "python",
   "nbconvert_exporter": "python",
   "pygments_lexer": "ipython3",
   "version": "3.13.5"
  }
 },
 "nbformat": 4,
 "nbformat_minor": 5
}

{
 "cells": [
  {
   "cell_type": "markdown",
   "id": "569d9804",
   "metadata": {},
   "source": [
    "##dateTime\n",
    "\n",
    "gets current date"
   ]
  },
  {
   "cell_type": "code",
   "execution_count": 1,
   "id": "a891e3da",
   "metadata": {},
   "outputs": [
    {
     "name": "stdout",
     "output_type": "stream",
     "text": [
      "2025-10-20\n"
     ]
    }
   ],
   "source": [
    "import datetime\n",
    "\n",
    "today = datetime.date.today()\n",
    "\n",
    "print(today)"
   ]
  },
  {
   "cell_type": "markdown",
   "id": "754c4018",
   "metadata": {},
   "source": [
    "##random\n",
    "\n",
    "create a random password"
   ]
  },
  {
   "cell_type": "code",
   "execution_count": null,
   "id": "9e9bd01a",
   "metadata": {},
   "outputs": [],
   "source": [
    "import random\n",
    "\n",
    "random_password = ''.join(random.choices('abcdefghijklmnopqrstuvwxyz0123456789', k=10))"
   ]
  },
  {
   "cell_type": "markdown",
   "id": "0be0353d",
   "metadata": {},
   "source": [
    "##Shallow vs Deep copy\n",
    "\n",
    "shallow copy changes the original and the new copy while deep copy creates a whole new object which means it will only affect the copy list"
   ]
  },
  {
   "cell_type": "code",
   "execution_count": 2,
   "id": "c8a1674b",
   "metadata": {},
   "outputs": [
    {
     "name": "stdout",
     "output_type": "stream",
     "text": [
      "Original: [1, 2, ['Changed', 4]]\n",
      "Shallow Copy: [1, 2, ['Changed', 4]]\n",
      "Deep Copy: [1, 2, [3, 4]]\n"
     ]
    }
   ],
   "source": [
    "import copy\n",
    "\n",
    "a = [1, 2, [3, 4]]\n",
    "b = copy.copy(a)        # Shallow copy\n",
    "c = copy.deepcopy(a)   # Deep copy\n",
    "\n",
    "a[2][0] = 'Changed'\n",
    "print(\"Original:\", a)\n",
    "print(\"Shallow Copy:\", b)\n",
    "print(\"Deep Copy:\", c)"
   ]
  },
  {
   "cell_type": "markdown",
   "id": "f8f0cfa8",
   "metadata": {},
   "source": [
    "##time\n",
    "\n",
    "sleep is used to wait until specified seconds has passed then it continues to the next line"
   ]
  },
  {
   "cell_type": "code",
   "execution_count": 3,
   "id": "3a012712",
   "metadata": {},
   "outputs": [
    {
     "name": "stdout",
     "output_type": "stream",
     "text": [
      "Current Time: Mon Oct 20 15:08:16 2025\n",
      "Time after 2 seconds: Mon Oct 20 15:08:18 2025\n"
     ]
    }
   ],
   "source": [
    "import time\n",
    "\n",
    "print(\"Current Time:\", time.ctime())\n",
    "time.sleep(2)\n",
    "print(\"Time after 2 seconds:\", time.ctime())"
   ]
  },
  {
   "cell_type": "markdown",
   "id": "50961f00",
   "metadata": {},
   "source": [
    "##math\n",
    "\n",
    "uses math module to calculate the area of a circle"
   ]
  },
  {
   "cell_type": "code",
   "execution_count": null,
   "id": "ff885043",
   "metadata": {},
   "outputs": [
    {
     "name": "stdout",
     "output_type": "stream",
     "text": [
      "Pi: 3.141592653589793\n",
      "Area of circle with radius 5 is 78.53981633974483\n"
     ]
    }
   ],
   "source": [
    "import math\n",
    "\n",
    "print(\"Pi:\", math.pi)\n",
    "\n",
    "radius = 5\n",
    "area = math.pi * (radius ** 2)\n",
    "print(f\"Area of circle with radius {radius} is {area:.2f}\")"
   ]
  },
  {
   "cell_type": "markdown",
   "id": "c744717c",
   "metadata": {},
   "source": [
    "##os\n",
    "\n",
    "list files in current directory"
   ]
  },
  {
   "cell_type": "code",
   "execution_count": 5,
   "id": "d5226278",
   "metadata": {},
   "outputs": [
    {
     "name": "stdout",
     "output_type": "stream",
     "text": [
      "Current Working Directory: c:\\Users\\kkariuki\\OneDrive - Fayetteville State University\\cs130\\CSC130-StandardLibaries\n",
      "Files in Directory: ['.git', 'Lab.ipynb', 'README.md']\n"
     ]
    }
   ],
   "source": [
    "import os\n",
    "\n",
    "print(\"Current Working Directory:\", os.getcwd())\n",
    "print(\"Files in Directory:\", os.listdir('.'))"
   ]
  },
  {
   "cell_type": "markdown",
   "id": "c15585f8",
   "metadata": {},
   "source": [
    "##sys\n",
    "\n",
    "print current python version"
   ]
  },
  {
   "cell_type": "code",
   "execution_count": 6,
   "id": "20070c69",
   "metadata": {},
   "outputs": [
    {
     "name": "stdout",
     "output_type": "stream",
     "text": [
      "Python Version: 3.13.5 | packaged by Anaconda, Inc. | (main, Jun 12 2025, 16:37:03) [MSC v.1929 64 bit (AMD64)]\n",
      "Platform: win32\n"
     ]
    }
   ],
   "source": [
    "import sys\n",
    "\n",
    "print(\"Python Version:\", sys.version)\n",
    "print(\"Platform:\", sys.platform)"
   ]
  },
  {
   "cell_type": "markdown",
   "id": "095e285c",
   "metadata": {},
   "source": [
    "##pdb\n",
    "\n",
    "Debug a division-by-zero error.\n",
    "\n",
    "c -> continue execution\n",
    "\n",
    "\n",
    "q -> quit the debugger/execution\n",
    "\n",
    "\n",
    "n -> step to next line within the same function\n",
    "\n",
    "\n",
    "s -> step to next line in this function or a called function"
   ]
  },
  {
   "cell_type": "code",
   "execution_count": 12,
   "id": "424a155e",
   "metadata": {},
   "outputs": [
    {
     "name": "stdout",
     "output_type": "stream",
     "text": [
      "None\n",
      "> \u001b[1;32m<string>\u001b[0m(1)\u001b[0;36m<module>\u001b[1;34m()\u001b[0m\n",
      "\n"
     ]
    },
    {
     "ename": "ZeroDivisionError",
     "evalue": "division by zero",
     "output_type": "error",
     "traceback": [
      "\u001b[1;31m---------------------------------------------------------------------------\u001b[0m",
      "\u001b[1;31mZeroDivisionError\u001b[0m                         Traceback (most recent call last)",
      "Cell \u001b[1;32mIn[12], line 8\u001b[0m\n\u001b[0;32m      5\u001b[0m \u001b[38;5;28;01mdef\u001b[39;00m\u001b[38;5;250m \u001b[39m\u001b[38;5;21mdivide\u001b[39m(a, b):\n\u001b[0;32m      6\u001b[0m     \u001b[38;5;28;01mreturn\u001b[39;00m a \u001b[38;5;241m/\u001b[39m b\n\u001b[1;32m----> 8\u001b[0m pdb\u001b[38;5;241m.\u001b[39mrun(\u001b[38;5;124m'\u001b[39m\u001b[38;5;124mdivide(5, 0)\u001b[39m\u001b[38;5;124m'\u001b[39m)\n",
      "File \u001b[1;32mc:\\ProgramData\\anaconda3\\Lib\\pdb.py:2311\u001b[0m, in \u001b[0;36mrun\u001b[1;34m(statement, globals, locals)\u001b[0m\n\u001b[0;32m   2298\u001b[0m \u001b[38;5;28;01mdef\u001b[39;00m\u001b[38;5;250m \u001b[39m\u001b[38;5;21mrun\u001b[39m(statement, \u001b[38;5;28mglobals\u001b[39m\u001b[38;5;241m=\u001b[39m\u001b[38;5;28;01mNone\u001b[39;00m, \u001b[38;5;28mlocals\u001b[39m\u001b[38;5;241m=\u001b[39m\u001b[38;5;28;01mNone\u001b[39;00m):\n\u001b[0;32m   2299\u001b[0m \u001b[38;5;250m    \u001b[39m\u001b[38;5;124;03m\"\"\"Execute the *statement* (given as a string or a code object)\u001b[39;00m\n\u001b[0;32m   2300\u001b[0m \u001b[38;5;124;03m    under debugger control.\u001b[39;00m\n\u001b[0;32m   2301\u001b[0m \n\u001b[1;32m   (...)\u001b[0m\n\u001b[0;32m   2309\u001b[0m \u001b[38;5;124;03m    the built-in exec() or eval() functions.).\u001b[39;00m\n\u001b[0;32m   2310\u001b[0m \u001b[38;5;124;03m    \"\"\"\u001b[39;00m\n\u001b[1;32m-> 2311\u001b[0m     Pdb()\u001b[38;5;241m.\u001b[39mrun(statement, \u001b[38;5;28mglobals\u001b[39m, \u001b[38;5;28mlocals\u001b[39m)\n",
      "File \u001b[1;32mc:\\ProgramData\\anaconda3\\Lib\\bdb.py:666\u001b[0m, in \u001b[0;36mBdb.run\u001b[1;34m(self, cmd, globals, locals)\u001b[0m\n\u001b[0;32m    664\u001b[0m sys\u001b[38;5;241m.\u001b[39msettrace(\u001b[38;5;28mself\u001b[39m\u001b[38;5;241m.\u001b[39mtrace_dispatch)\n\u001b[0;32m    665\u001b[0m \u001b[38;5;28;01mtry\u001b[39;00m:\n\u001b[1;32m--> 666\u001b[0m     exec(cmd, \u001b[38;5;28mglobals\u001b[39m, \u001b[38;5;28mlocals\u001b[39m)\n\u001b[0;32m    667\u001b[0m \u001b[38;5;28;01mexcept\u001b[39;00m BdbQuit:\n\u001b[0;32m    668\u001b[0m     \u001b[38;5;28;01mpass\u001b[39;00m\n",
      "File \u001b[1;32m<string>:1\u001b[0m\n",
      "Cell \u001b[1;32mIn[12], line 6\u001b[0m, in \u001b[0;36mdivide\u001b[1;34m(a, b)\u001b[0m\n\u001b[0;32m      5\u001b[0m \u001b[38;5;28;01mdef\u001b[39;00m\u001b[38;5;250m \u001b[39m\u001b[38;5;21mdivide\u001b[39m(a, b):\n\u001b[1;32m----> 6\u001b[0m     \u001b[38;5;28;01mreturn\u001b[39;00m a \u001b[38;5;241m/\u001b[39m b\n",
      "\u001b[1;31mZeroDivisionError\u001b[0m: division by zero"
     ]
    }
   ],
   "source": [
    "# importing pdb\n",
    "import pdb\n",
    "\n",
    "# make a simple function to debug\n",
    "def divide(a, b):\n",
    "    return a / b\n",
    "\n",
    "pdb.run('divide(5, 0)')"
   ]
  }
 ],
 "metadata": {
  "kernelspec": {
   "display_name": "base",
   "language": "python",
   "name": "python3"
  },
  "language_info": {
   "codemirror_mode": {
    "name": "ipython",
    "version": 3
   },
   "file_extension": ".py",
   "mimetype": "text/x-python",
   "name": "python",
   "nbconvert_exporter": "python",
   "pygments_lexer": "ipython3",
   "version": "3.13.5"
  }
 },
 "nbformat": 4,
 "nbformat_minor": 5
}
